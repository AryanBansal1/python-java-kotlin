{
 "cells": [
  {
   "cell_type": "code",
   "execution_count": 1,
   "id": "43e0130f",
   "metadata": {},
   "outputs": [],
   "source": [
    "from selenium import webdriver\n",
    "from selenium.webdriver.chrome.service import Service\n",
    "from selenium.webdriver.common.by import By\n",
    "from selenium.webdriver.support.select import Select\n",
    "import time\n",
    "from selenium.webdriver.support.ui import WebDriverWait\n",
    "from selenium.webdriver.support import expected_conditions\n",
    "chrome_option = webdriver.ChromeOptions()\n",
    "chrome_option.add_experimental_option(\"detach\",True)\n",
    "service_obj = Service(\"C:\\\\Aryan\\\\Data analysts\\\\Webdriver\\\\chromedriver.exe\")\n",
    "driver = webdriver.Chrome(options=chrome_option,service=service_obj)\n",
    "driver.maximize_window()\n",
    "driver.implicitly_wait(6)\n"
   ]
  },
  {
   "cell_type": "code",
   "execution_count": 2,
   "id": "df3823b4",
   "metadata": {},
   "outputs": [],
   "source": [
    "driver.get(\"https://rahulshettyacademy.com/seleniumPractise/#/\")\n",
    "driver.find_element(By.CSS_SELECTOR,\"input[type='search']\").send_keys(\"ber\")"
   ]
  },
  {
   "cell_type": "code",
   "execution_count": 3,
   "id": "45f23370",
   "metadata": {},
   "outputs": [
    {
     "name": "stdout",
     "output_type": "stream",
     "text": [
      "3\n"
     ]
    }
   ],
   "source": [
    "time.sleep(5)\n",
    "all_options =driver.find_elements(By.XPATH,\"//div[@class='products']/div\")\n",
    "print(len(all_options))\n",
    "for option in all_options:\n",
    "    option.find_element(By.XPATH,\"div/button\").click()"
   ]
  },
  {
   "cell_type": "code",
   "execution_count": 4,
   "id": "edfed896",
   "metadata": {},
   "outputs": [],
   "source": [
    "driver.find_element(By.XPATH,\"//img[@alt='Cart']\").click()"
   ]
  },
  {
   "cell_type": "code",
   "execution_count": 5,
   "id": "84672071",
   "metadata": {},
   "outputs": [],
   "source": [
    "driver.find_element(By.XPATH,\"//button[text()='PROCEED TO CHECKOUT']\").click()"
   ]
  },
  {
   "cell_type": "code",
   "execution_count": 11,
   "id": "f838af7e",
   "metadata": {},
   "outputs": [
    {
     "data": {
      "text/plain": [
       "<selenium.webdriver.remote.webelement.WebElement (session=\"1ac9d7a0d917f3f31fe3d54cb03458fc\", element=\"3a976830-d3e4-4e75-b5e6-d4314a16eb71\")>"
      ]
     },
     "execution_count": 11,
     "metadata": {},
     "output_type": "execute_result"
    }
   ],
   "source": [
    "driver.find_element(By.XPATH,\"//input[@class='promoCode']\").send_keys(\"rahulshettyacademy\")\n",
    "driver.find_element(By.XPATH,\"//button[@class='promoBtn']\").click()\n",
    "wait = WebDriverWait(driver,10)\n",
    "wait.until(expected_conditions.presence_of_element_located((By.CSS_SELECTOR,\"span[class='promoInfo']\")))\n",
    "#print(driver.find_elements(By.XPATH, \"//span[@class='promoInfo']\").text)\n"
   ]
  },
  {
   "cell_type": "code",
   "execution_count": 12,
   "id": "17bcfa5b",
   "metadata": {},
   "outputs": [
    {
     "name": "stdout",
     "output_type": "stream",
     "text": [
      "388\n"
     ]
    }
   ],
   "source": [
    "sum = 0\n",
    "prices =driver.find_elements(By.XPATH,\"//td[5]/p\")\n",
    "for price in prices:\n",
    "    sum =sum + int(price.text)\n",
    "print(sum)\n",
    "total_amt = int(driver.find_element(By.XPATH,\"//span[@class='totAmt']\").text)\n",
    "assert sum == total_amt\n",
    "driver.find_element(By.XPATH,\"//button[text()='Place Order']\").click()    \n"
   ]
  },
  {
   "cell_type": "code",
   "execution_count": 22,
   "id": "c2437100",
   "metadata": {},
   "outputs": [],
   "source": []
  },
  {
   "cell_type": "code",
   "execution_count": null,
   "id": "192dc58c",
   "metadata": {},
   "outputs": [],
   "source": []
  }
 ],
 "metadata": {
  "kernelspec": {
   "display_name": "Python 3 (ipykernel)",
   "language": "python",
   "name": "python3"
  },
  "language_info": {
   "codemirror_mode": {
    "name": "ipython",
    "version": 3
   },
   "file_extension": ".py",
   "mimetype": "text/x-python",
   "name": "python",
   "nbconvert_exporter": "python",
   "pygments_lexer": "ipython3",
   "version": "3.11.2"
  }
 },
 "nbformat": 4,
 "nbformat_minor": 5
}
