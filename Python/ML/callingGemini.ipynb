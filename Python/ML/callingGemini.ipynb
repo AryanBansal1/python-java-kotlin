{
 "cells": [
  {
   "cell_type": "code",
   "execution_count": null,
   "id": "a8ca24d0",
   "metadata": {},
   "outputs": [],
   "source": [
    "from google import genai\n",
    "import os\n",
    "\n",
    "client = genai.Client(api_key=os.getenv(\"variable-name\"))"
   ]
  },
  {
   "cell_type": "code",
   "execution_count": null,
   "id": "744a970f",
   "metadata": {},
   "outputs": [],
   "source": [
    "response = client.models.generate_content(\n",
    "    model=\"gemini-2.0-flash\",\n",
    "    contents=\"give me a joke\"\n",
    ")\n",
    "print(response.text)"
   ]
  },
  {
   "cell_type": "code",
   "execution_count": null,
   "id": "15fa37ae",
   "metadata": {},
   "outputs": [],
   "source": [
    "#for getting response live\n",
    "response = client.models.generate_content_stream(\n",
    "    model=\"\",\n",
    "    contents=\"\"\n",
    ")\n",
    "for live in response:\n",
    "    print(live.text)"
   ]
  },
  {
   "cell_type": "code",
   "execution_count": null,
   "id": "d1b2081e",
   "metadata": {},
   "outputs": [],
   "source": [
    "# for using it like a chatbot\n",
    "import os\n",
    "from google import genai\n",
    "\n",
    "client = genai.Client(api_key=os.getenv(\"variable-name\"))\n",
    "\n",
    "chat = client.chats.create(model=\"gemini-2.0-flash\")\n",
    "\n",
    "while True:\n",
    "    message = input(\">\")\n",
    "    if(message==\"exit\"):\n",
    "        break\n",
    "    res = chat.send_message(message)\n",
    "    print(res.text)"
   ]
  },
  {
   "cell_type": "code",
   "execution_count": null,
   "id": "089ae0eb",
   "metadata": {},
   "outputs": [
    {
     "name": "stdout",
     "output_type": "stream",
     "text": [
      "The image is a promotional poster for the Marvel superhero team, the Avengers. The team is prominently displayed in the foreground against a backdrop of a city in ruins, suggesting a recent battle.\n",
      "\n",
      "From left to right, the characters are:\n",
      "- Thor: Holding his hammer, Mjolnir.\n",
      "- Black Widow: Armed with a gun, she looks towards the center of the image.\n",
      "- Captain America: Carrying his iconic shield.\n",
      "- Nick Fury: Appears to be issuing commands or providing support.\n",
      "- Iron Man: With his hand raised and armor glowing, is a primary focal point.\n",
      "- Maria Hill: Is depicted closer to the background.\n",
      "- Hawkeye: Drawing his bow, ready for action.\n",
      "- Hulk: Is standing tall with a green skin and muscles.\n",
      "\n",
      "The overall tone of the image is action-packed and dramatic. There's fire, smoke, and debris scattered around, contributing to the sense of urgency and danger. The lighting is dark and moody, with the heroes illuminated, highlighting their strength and determination amidst chaos.\n"
     ]
    }
   ],
   "source": [
    "# uploading file to gemini\n",
    "from google import genai\n",
    "import os\n",
    "client = genai.Client(api_key=os.getenv(\"variable-name\"))\n",
    "\n",
    "fileupload = client.files.upload(file=\"marvel.jpg\") #mp3,jpg,mp4,pdf,etc\n",
    "\n",
    "response = client.models.generate_content(\n",
    "    model=\"gemini-2.0-flash\",\n",
    "    contents=[\"descirbe the file\",fileupload]\n",
    ")\n",
    "print(response.text)"
   ]
  },
  {
   "cell_type": "code",
   "execution_count": null,
   "id": "4da01981",
   "metadata": {},
   "outputs": [],
   "source": []
  }
 ],
 "metadata": {
  "kernelspec": {
   "display_name": "Python 3",
   "language": "python",
   "name": "python3"
  },
  "language_info": {
   "codemirror_mode": {
    "name": "ipython",
    "version": 3
   },
   "file_extension": ".py",
   "mimetype": "text/x-python",
   "name": "python",
   "nbconvert_exporter": "python",
   "pygments_lexer": "ipython3",
   "version": "3.11.5"
  }
 },
 "nbformat": 4,
 "nbformat_minor": 5
}
