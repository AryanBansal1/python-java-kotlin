{
 "cells": [
  {
   "cell_type": "code",
   "execution_count": 33,
   "metadata": {},
   "outputs": [
    {
     "name": "stdout",
     "output_type": "stream",
     "text": [
      "×\n",
      "Success! Thank you! Your order will be delivered in next few weeks :-).\n"
     ]
    }
   ],
   "source": [
    "from selenium import webdriver\n",
    "from selenium.webdriver.common.by import By\n",
    "from selenium.webdriver import ActionChains\n",
    "from selenium.webdriver.chrome.service import Service\n",
    "from selenium.webdriver.support import expected_conditions\n",
    "from selenium.webdriver.support.ui import WebDriverWait\n",
    "import os\n",
    "import pandas as pd\n",
    "import time\n",
    "import datetime\n",
    "service_obj = Service(\"C:\\\\Aryan\\\\Data analysts\\\\Webdriver\\\\chromedriver.exe\")\n",
    "chrome_obj = webdriver.ChromeOptions()\n",
    "driver = webdriver.Chrome(service=service_obj,options=chrome_obj)\n",
    "driver.get(\"https://rahulshettyacademy.com/angularpractice/\")\n",
    "driver.find_element(By.LINK_TEXT,'Shop').click()\n",
    "all_phone_names = []\n",
    "all_phone=driver.find_elements(By.XPATH,\"/html/body/app-root/app-shop/div/div/div[2]/app-card-list/app-card/div\")\n",
    "for phone in all_phone:\n",
    "    phone_name= phone.find_element(By.XPATH,'.//div[1]/h4/a').text\n",
    "    all_phone_names.append(phone_name)\n",
    "    if phone_name == \"iphone X\":\n",
    "        phone.find_element(By.XPATH,\".//div[2]/button\").click()\n",
    "driver.find_element(By.XPATH,'//*[@id=\"navbarResponsive\"]/ul/li/a').click()\n",
    "driver.find_element(By.XPATH,'/html/body/app-root/app-shop/div/div/div/table/tbody/tr[3]/td[5]/button').click()\n",
    "time.sleep(2)\n",
    "driver.find_element(By.XPATH,'//*[@id=\"country\"]').send_keys(\"India\")\n",
    "wait = WebDriverWait(driver,10)\n",
    "wait.until(expected_conditions.element_to_be_clickable((By.XPATH,'/html/body/app-root/app-shop/div/app-checkout/div/div[2]/ul/li/a')))\n",
    "driver.find_element(By.XPATH,'/html/body/app-root/app-shop/div/app-checkout/div/div[2]/ul/li/a').click()\n",
    "time.sleep(1)\n",
    "driver.find_element(By.XPATH,'/html/body/app-root/app-shop/div/app-checkout/div/div[2]').click()\n",
    "driver.find_element(By.XPATH,'/html/body/app-root/app-shop/div/app-checkout/div/form/input').click()\n",
    "wait.until(expected_conditions.presence_of_element_located((By.XPATH,'/html/body/app-root/app-shop/div/app-checkout/div[2]/div')))\n",
    "Alert = driver.find_element(By.XPATH,'/html/body/app-root/app-shop/div/app-checkout/div[2]/div').text\n",
    "print(Alert)\n",
    "assert \"Success!\" in Alert\n",
    "driver.close()"
   ]
  },
  {
   "cell_type": "code",
   "execution_count": 22,
   "metadata": {},
   "outputs": [
    {
     "data": {
      "text/plain": [
       "['iphone X', 'Samsung Note 8', 'Nokia Edge', 'Blackberry']"
      ]
     },
     "execution_count": 22,
     "metadata": {},
     "output_type": "execute_result"
    }
   ],
   "source": [
    "all_phone_names"
   ]
  },
  {
   "cell_type": "code",
   "execution_count": null,
   "metadata": {},
   "outputs": [],
   "source": []
  }
 ],
 "metadata": {
  "kernelspec": {
   "display_name": "Python 3",
   "language": "python",
   "name": "python3"
  },
  "language_info": {
   "codemirror_mode": {
    "name": "ipython",
    "version": 3
   },
   "file_extension": ".py",
   "mimetype": "text/x-python",
   "name": "python",
   "nbconvert_exporter": "python",
   "pygments_lexer": "ipython3",
   "version": "3.11.2"
  },
  "orig_nbformat": 4
 },
 "nbformat": 4,
 "nbformat_minor": 2
}
