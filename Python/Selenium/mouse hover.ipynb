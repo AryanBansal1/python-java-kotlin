{
 "cells": [
  {
   "cell_type": "code",
   "execution_count": 2,
   "id": "8aa29937",
   "metadata": {},
   "outputs": [],
   "source": [
    "from selenium import webdriver\n",
    "from selenium.webdriver.chrome.service import Service\n",
    "from selenium.webdriver.common.by import By\n",
    "from selenium.webdriver.support.select import Select\n",
    "import time\n",
    "from selenium.webdriver.support.ui import WebDriverWait\n",
    "from selenium.webdriver.support import expected_conditions\n",
    "from selenium.webdriver import ActionChains"
   ]
  },
  {
   "cell_type": "code",
   "execution_count": 3,
   "id": "fa164dec",
   "metadata": {},
   "outputs": [],
   "source": [
    "service_obj= Service(\"C:\\Aryan\\Data analysts\\Webdriver\\chromedriver.exe\")\n",
    "chrome_option = webdriver.ChromeOptions()\n",
    "driver = webdriver.Chrome(service=service_obj ,options =chrome_option)\n",
    "action =ActionChains(driver)\n",
    "driver.get(\"https://rahulshettyacademy.com/AutomationPractice/\")\n",
    "driver.maximize_window()"
   ]
  },
  {
   "cell_type": "code",
   "execution_count": 4,
   "id": "31a8092e",
   "metadata": {},
   "outputs": [],
   "source": [
    "action.move_to_element(driver.find_element(By.ID,\"mousehover\")).perform()"
   ]
  },
  {
   "cell_type": "code",
   "execution_count": null,
   "id": "5d772f83",
   "metadata": {},
   "outputs": [],
   "source": []
  }
 ],
 "metadata": {
  "kernelspec": {
   "display_name": "Python 3 (ipykernel)",
   "language": "python",
   "name": "python3"
  },
  "language_info": {
   "codemirror_mode": {
    "name": "ipython",
    "version": 3
   },
   "file_extension": ".py",
   "mimetype": "text/x-python",
   "name": "python",
   "nbconvert_exporter": "python",
   "pygments_lexer": "ipython3",
   "version": "3.11.2"
  }
 },
 "nbformat": 4,
 "nbformat_minor": 5
}
