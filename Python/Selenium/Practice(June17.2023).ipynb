{
 "cells": [
  {
   "cell_type": "code",
   "execution_count": 11,
   "metadata": {},
   "outputs": [],
   "source": [
    "from selenium import webdriver\n",
    "from selenium.webdriver.chrome.service import Service\n",
    "from selenium.webdriver.common.by import By\n",
    "from selenium.webdriver.support.select import Select\n",
    "service_obj = Service(\"C:\\\\Aryan\\\\Data analysts\\\\Webdriver\\\\chromedriver.exe\")\n",
    "option_obj = webdriver.ChromeOptions()\n",
    "option_obj.add_experimental_option(\"detach\", True)\n",
    "driver = webdriver.Chrome(service=service_obj,options=option_obj)\n",
    "driver.get(\"https://rahulshettyacademy.com/AutomationPractice/\")\n",
    "driver.find_element(By.XPATH,\"//input[@value = 'radio1']\").click()\n"
   ]
  },
  {
   "cell_type": "code",
   "execution_count": 12,
   "metadata": {},
   "outputs": [],
   "source": [
    "options = Select(driver.find_element(By.XPATH,\"//select[@id='dropdown-class-example']\"))\n",
    "options.select_by_value(\"option1\")\n"
   ]
  },
  {
   "cell_type": "code",
   "execution_count": 13,
   "metadata": {},
   "outputs": [],
   "source": [
    "#driver.implicitly_wait(2)\n",
    "driver.find_element(By.XPATH,\"//*[@id='autocomplete']\").send_keys(\"Ind\")\n",
    "dropdowns = driver.find_elements(By.XPATH,\"//div[@class='ui-menu-item-wrapper']\")\n",
    "for dropdown in dropdowns:\n",
    "    if dropdown.text == \"India\":\n",
    "        dropdown.click()"
   ]
  },
  {
   "cell_type": "code",
   "execution_count": 14,
   "metadata": {},
   "outputs": [],
   "source": [
    "from selenium.webdriver.support.ui import WebDriverWait\n",
    "from selenium.webdriver.support import expected_conditions\n",
    "wait = WebDriverWait(driver,10)\n",
    "#wait.until(expected_conditions.presence_of_element_located())\n",
    "from selenium.webdriver import ActionChains\n",
    "mouse = ActionChains(driver)\n",
    "mouse.move_to_element(driver.find_element(By.XPATH,\"//*[@id='mousehover']\")).perform()"
   ]
  },
  {
   "cell_type": "code",
   "execution_count": 1,
   "metadata": {},
   "outputs": [
    {
     "ename": "NameError",
     "evalue": "name 'driver' is not defined",
     "output_type": "error",
     "traceback": [
      "\u001b[1;31m---------------------------------------------------------------------------\u001b[0m",
      "\u001b[1;31mNameError\u001b[0m                                 Traceback (most recent call last)",
      "Cell \u001b[1;32mIn[1], line 1\u001b[0m\n\u001b[1;32m----> 1\u001b[0m game \u001b[39m=\u001b[39m driver\u001b[39m.\u001b[39mswitch_to\u001b[39m.\u001b[39malert()\n\u001b[0;32m      2\u001b[0m game\u001b[39m.\u001b[39maccept()\n",
      "\u001b[1;31mNameError\u001b[0m: name 'driver' is not defined"
     ]
    }
   ],
   "source": []
  },
  {
   "cell_type": "code",
   "execution_count": null,
   "metadata": {},
   "outputs": [],
   "source": []
  }
 ],
 "metadata": {
  "kernelspec": {
   "display_name": "Python 3",
   "language": "python",
   "name": "python3"
  },
  "language_info": {
   "codemirror_mode": {
    "name": "ipython",
    "version": 3
   },
   "file_extension": ".py",
   "mimetype": "text/x-python",
   "name": "python",
   "nbconvert_exporter": "python",
   "pygments_lexer": "ipython3",
   "version": "3.11.2"
  },
  "orig_nbformat": 4
 },
 "nbformat": 4,
 "nbformat_minor": 2
}
