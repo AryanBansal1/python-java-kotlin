{
 "cells": [
  {
   "cell_type": "code",
   "execution_count": 2,
   "metadata": {},
   "outputs": [
    {
     "data": {
      "text/plain": [
       "'driver.get(\"https://rahulshettyacademy.com/angularpractice/\")\\n#time.sleep(10)\\ndropdown = Select(driver.find_element(By.XPATH,\"//select[@id=\\'exampleFormControlSelect1\\']\"))\\ndropdown.select_by_visible_text(\"Female\")\\n#driver.close()'"
      ]
     },
     "execution_count": 2,
     "metadata": {},
     "output_type": "execute_result"
    }
   ],
   "source": [
    "from selenium import webdriver\n",
    "from selenium.webdriver.chrome.service import Service\n",
    "from selenium.webdriver.common.by import By \n",
    "from selenium.webdriver.support.select import Select\n",
    "import time\n",
    "service_obj = Service(\"C:\\\\Aryan\\\\Data analysts\\\\Webdriver\\\\chromedriver.exe\")\n",
    "chrome_option = webdriver.ChromeOptions()\n",
    "chrome_option.add_experimental_option(\"detach\",True)\n",
    "driver = webdriver.Chrome(service=service_obj, options=chrome_option)\n",
    "#STATIC DROPDOWN\n",
    "\"\"\"driver.get(\"https://rahulshettyacademy.com/angularpractice/\")\n",
    "#time.sleep(10)\n",
    "dropdown = Select(driver.find_element(By.XPATH,\"//select[@id='exampleFormControlSelect1']\"))\n",
    "dropdown.select_by_visible_text(\"Female\")\n",
    "#driver.close()\"\"\""
   ]
  },
  {
   "cell_type": "code",
   "execution_count": 3,
   "metadata": {},
   "outputs": [],
   "source": [
    "#DYNAMIC DROPDOWn\n",
    "driver.get(\"https://rahulshettyacademy.com/dropdownsPractise/\")\n",
    "driver.find_element(By.ID,\"autosuggest\").send_keys(\"Ind\")\n",
    "time.sleep(2)\n",
    "countries = driver.find_elements(By.CLASS_NAME,\"ui-menu-item\")\n",
    "for country in countries:\n",
    "    if country.text ==\"India\":\n",
    "        country.click()\n",
    "driver.close()"
   ]
  },
  {
   "cell_type": "code",
   "execution_count": 4,
   "metadata": {},
   "outputs": [],
   "source": [
    "# practice of Static Dropdown\n",
    "import time\n",
    "from selenium import webdriver\n",
    "from selenium.webdriver.chrome.service import Service\n",
    "from selenium.webdriver.common.by import By\n",
    "from selenium.webdriver.support.select import Select\n",
    "chrome_option = webdriver.ChromeOptions()\n",
    "chrome_option.add_experimental_option(\"detach\",True)\n",
    "service_obj = Service(\"C:\\\\Aryan\\\\Data analysts\\\\Webdriver\\\\chromedriver.exe\")\n",
    "driver = webdriver.Chrome(service=service_obj, options=chrome_option)\n",
    "driver.get(\"https://rahulshettyacademy.com/AutomationPractice/\")\n",
    "options = Select(driver.find_element(By.NAME,\"dropdown-class-example\"))\n",
    "options.select_by_value(\"option3\")\n",
    "time.sleep(3)\n",
    "driver.close()\n"
   ]
  },
  {
   "cell_type": "code",
   "execution_count": 11,
   "metadata": {},
   "outputs": [
    {
     "name": "stdout",
     "output_type": "stream",
     "text": [
      "3\n"
     ]
    }
   ],
   "source": [
    "# dynamic dropdown practice\n",
    "import time\n",
    "from selenium import webdriver\n",
    "from selenium.webdriver.chrome.service import Service\n",
    "from selenium.webdriver.common.by import By\n",
    "from selenium.webdriver.support.select import Select\n",
    "chrome_option = webdriver.ChromeOptions()\n",
    "#chrome_option.add_argument(\"--headless\")\n",
    "chrome_option.add_experimental_option(\"detach\",True)\n",
    "service_obj = Service(\"C:\\\\Aryan\\\\Data analysts\\\\Webdriver\\\\chromedriver.exe\")\n",
    "driver = webdriver.Chrome(service=service_obj, options=chrome_option)\n",
    "driver.get(\"https://rahulshettyacademy.com/AutomationPractice/\")\n",
    "multipleoptions = driver.find_elements(By.XPATH,\"//input[@type='checkbox']\")\n",
    "print(len(multipleoptions))\n",
    "for single_option in multipleoptions:\n",
    "    if single_option.get_attribute(\"value\") == \"option3\":\n",
    "        single_option.click()\n",
    "time.sleep(3)\n",
    "driver.close()"
   ]
  },
  {
   "cell_type": "code",
   "execution_count": null,
   "metadata": {},
   "outputs": [],
   "source": []
  }
 ],
 "metadata": {
  "kernelspec": {
   "display_name": "Python 3",
   "language": "python",
   "name": "python3"
  },
  "language_info": {
   "codemirror_mode": {
    "name": "ipython",
    "version": 3
   },
   "file_extension": ".py",
   "mimetype": "text/x-python",
   "name": "python",
   "nbconvert_exporter": "python",
   "pygments_lexer": "ipython3",
   "version": "3.11.2"
  },
  "orig_nbformat": 4
 },
 "nbformat": 4,
 "nbformat_minor": 2
}
