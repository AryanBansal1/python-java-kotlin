{
 "cells": [
  {
   "cell_type": "code",
   "execution_count": 41,
   "metadata": {},
   "outputs": [],
   "source": [
    "from selenium import webdriver\n",
    "from selenium.webdriver.chrome.service import Service\n",
    "from selenium.webdriver.common.by import By\n",
    "service_obj = Service(\"C:\\\\Aryan\\\\Data analysts\\\\Webdriver\\\\chromedriver.exe\")\n",
    "chrome_opt = webdriver.ChromeOptions()\n",
    "driver = webdriver.Chrome(service=service_obj,options=chrome_opt)\n",
    "driver.get(\"https://rahulshettyacademy.com/seleniumPractise/#/\")\n",
    "driver.find_element(By.LINK_TEXT,\"Top Deals\").click()\n",
    "alltabs = driver.window_handles\n",
    "driver.switch_to.window(alltabs[1])\n",
    "Notsorted= []\n",
    "Sorted =[]"
   ]
  },
  {
   "cell_type": "code",
   "execution_count": 42,
   "metadata": {},
   "outputs": [],
   "source": [
    "Tables1 =driver.find_elements(By.XPATH,\"//table[@class='table table-bordered']/tbody/tr/td[1]\")\n",
    "for Table1 in Tables1:\n",
    "    Notsorted.append(Table1.text)"
   ]
  },
  {
   "cell_type": "code",
   "execution_count": 43,
   "metadata": {},
   "outputs": [],
   "source": [
    "driver.find_element(By.XPATH,'//*[@id=\"root\"]/div/div/div/div/div/div/table/thead/tr/th[1]/span[2]').click()\n",
    "Tables2 = driver.find_elements(By.XPATH,\"//table[@class='table table-bordered']/tbody/tr/td[1]\")\n",
    "for Table2 in Tables2 :\n",
    "    Sorted.append(Table2.text) "
   ]
  },
  {
   "cell_type": "code",
   "execution_count": 44,
   "metadata": {},
   "outputs": [],
   "source": [
    "self_sorted = Notsorted.copy()\n",
    "self_sorted.sort()"
   ]
  },
  {
   "cell_type": "code",
   "execution_count": 45,
   "metadata": {},
   "outputs": [
    {
     "data": {
      "text/plain": [
       "['Almond', 'Apple', 'Banana', 'Beans', 'Brinjal']"
      ]
     },
     "execution_count": 45,
     "metadata": {},
     "output_type": "execute_result"
    }
   ],
   "source": [
    "Sorted"
   ]
  },
  {
   "cell_type": "code",
   "execution_count": 46,
   "metadata": {},
   "outputs": [
    {
     "data": {
      "text/plain": [
       "['Potato', 'Rice', 'Strawberry', 'Tomato', 'Wheat']"
      ]
     },
     "execution_count": 46,
     "metadata": {},
     "output_type": "execute_result"
    }
   ],
   "source": [
    "self_sorted"
   ]
  },
  {
   "cell_type": "code",
   "execution_count": 47,
   "metadata": {},
   "outputs": [
    {
     "data": {
      "text/plain": [
       "['Wheat', 'Tomato', 'Strawberry', 'Rice', 'Potato']"
      ]
     },
     "execution_count": 47,
     "metadata": {},
     "output_type": "execute_result"
    }
   ],
   "source": [
    "Notsorted"
   ]
  },
  {
   "cell_type": "code",
   "execution_count": null,
   "metadata": {},
   "outputs": [],
   "source": []
  }
 ],
 "metadata": {
  "kernelspec": {
   "display_name": "Python 3",
   "language": "python",
   "name": "python3"
  },
  "language_info": {
   "codemirror_mode": {
    "name": "ipython",
    "version": 3
   },
   "file_extension": ".py",
   "mimetype": "text/x-python",
   "name": "python",
   "nbconvert_exporter": "python",
   "pygments_lexer": "ipython3",
   "version": "3.11.2"
  },
  "orig_nbformat": 4
 },
 "nbformat": 4,
 "nbformat_minor": 2
}
