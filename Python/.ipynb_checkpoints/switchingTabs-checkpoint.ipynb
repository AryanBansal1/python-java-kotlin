{
 "cells": [
  {
   "cell_type": "code",
   "execution_count": 62,
   "metadata": {},
   "outputs": [],
   "source": [
    "from selenium import webdriver\n",
    "from selenium.webdriver.chrome.service import Service\n",
    "from selenium.webdriver.common.by import By\n",
    "from selenium.webdriver.support.ui import WebDriverWait\n",
    "from selenium.webdriver.support import expected_conditions\n",
    "\n"
   ]
  },
  {
   "cell_type": "code",
   "execution_count": 63,
   "metadata": {},
   "outputs": [],
   "source": [
    "service_obj = Service(\"C:\\\\Aryan\\\\Data analysts\\\\Webdriver\\\\chromedriver.exe\")\n",
    "chrome_options =webdriver.ChromeOptions()\n",
    "chrome_options.add_experimental_option(\"detach\",True)\n",
    "driver = webdriver.Chrome(service=service_obj,options=chrome_options)"
   ]
  },
  {
   "cell_type": "code",
   "execution_count": 64,
   "metadata": {},
   "outputs": [],
   "source": [
    "driver.get(\"https://rahulshettyacademy.com/loginpagePractise/\")\n"
   ]
  },
  {
   "cell_type": "code",
   "execution_count": 65,
   "metadata": {
    "scrolled": true
   },
   "outputs": [],
   "source": [
    "driver.find_element(By.LINK_TEXT,\"Free Access to InterviewQues/ResumeAssistance/Material\").click()"
   ]
  },
  {
   "cell_type": "code",
   "execution_count": 66,
   "metadata": {},
   "outputs": [],
   "source": [
    "alltabs = driver.window_handles\n",
    "driver.switch_to.window(alltabs[1])\n",
    "text4 =driver.find_element(By.XPATH,\"//p[@class='im-para red']\")"
   ]
  },
  {
   "cell_type": "code",
   "execution_count": 68,
   "metadata": {},
   "outputs": [],
   "source": [
    "text5 = text4.text[19:48]"
   ]
  },
  {
   "cell_type": "code",
   "execution_count": 69,
   "metadata": {},
   "outputs": [],
   "source": [
    "driver.close()\n",
    "driver.switch_to.window(alltabs[0])"
   ]
  },
  {
   "cell_type": "code",
   "execution_count": 70,
   "metadata": {},
   "outputs": [],
   "source": [
    "driver.find_element(By.XPATH,\"//*[@id='username']\").send_keys(text5)"
   ]
  },
  {
   "cell_type": "code",
   "execution_count": 71,
   "metadata": {},
   "outputs": [],
   "source": [
    "driver.find_element(By.XPATH,\"//*[@id='password']\").send_keys(\"learning\")"
   ]
  },
  {
   "cell_type": "code",
   "execution_count": 89,
   "metadata": {},
   "outputs": [
    {
     "ename": "NoAlertPresentException",
     "evalue": "Message: no such alert\n  (Session info: chrome=114.0.5735.134)\nStacktrace:\nBacktrace:\n\tGetHandleVerifier [0x011C6E73+48323]\n\t(No symbol) [0x01159661]\n\t(No symbol) [0x010651D0]\n\t(No symbol) [0x0105E58F]\n\t(No symbol) [0x010789C4]\n\t(No symbol) [0x010AA954]\n\t(No symbol) [0x0107888D]\n\t(No symbol) [0x010AA6D6]\n\t(No symbol) [0x0108847C]\n\t(No symbol) [0x0108957D]\n\tGetHandleVerifier [0x0142FD5D+2575277]\n\tGetHandleVerifier [0x0146F86E+2836158]\n\tGetHandleVerifier [0x014696DC+2811180]\n\tGetHandleVerifier [0x012541B0+626688]\n\t(No symbol) [0x0116314C]\n\t(No symbol) [0x0115F4B8]\n\t(No symbol) [0x0115F59B]\n\t(No symbol) [0x011521B7]\n\tBaseThreadInitThunk [0x76F400C9+25]\n\tRtlGetAppContainerNamedObjectPath [0x772B7B4E+286]\n\tRtlGetAppContainerNamedObjectPath [0x772B7B1E+238]\n",
     "output_type": "error",
     "traceback": [
      "\u001b[1;31m---------------------------------------------------------------------------\u001b[0m",
      "\u001b[1;31mNoAlertPresentException\u001b[0m                   Traceback (most recent call last)",
      "Cell \u001b[1;32mIn[89], line 4\u001b[0m\n\u001b[0;32m      2\u001b[0m wait \u001b[38;5;241m=\u001b[39m WebDriverWait(driver,\u001b[38;5;241m10\u001b[39m)\n\u001b[0;32m      3\u001b[0m wait\u001b[38;5;241m.\u001b[39muntil(expected_conditions\u001b[38;5;241m.\u001b[39mpresence_of_element_located((By\u001b[38;5;241m.\u001b[39mXPATH,\u001b[38;5;124m\"\u001b[39m\u001b[38;5;124m//div[@class=\u001b[39m\u001b[38;5;124m'\u001b[39m\u001b[38;5;124malert alert-danger col-md-12\u001b[39m\u001b[38;5;124m'\u001b[39m\u001b[38;5;124m]\u001b[39m\u001b[38;5;124m\"\u001b[39m)))\n\u001b[1;32m----> 4\u001b[0m \u001b[38;5;28mprint\u001b[39m(\u001b[43mdriver\u001b[49m\u001b[38;5;241;43m.\u001b[39;49m\u001b[43mswitch_to\u001b[49m\u001b[38;5;241;43m.\u001b[39;49m\u001b[43malert\u001b[49m\u001b[38;5;241m.\u001b[39mtext)\n",
      "File \u001b[1;32m~\\AppData\\Local\\Programs\\Python\\Python311\\Lib\\site-packages\\selenium\\webdriver\\remote\\switch_to.py:55\u001b[0m, in \u001b[0;36mSwitchTo.alert\u001b[1;34m(self)\u001b[0m\n\u001b[0;32m     47\u001b[0m \u001b[38;5;250m\u001b[39m\u001b[38;5;124;03m\"\"\"Switches focus to an alert on the page.\u001b[39;00m\n\u001b[0;32m     48\u001b[0m \n\u001b[0;32m     49\u001b[0m \u001b[38;5;124;03m:Usage:\u001b[39;00m\n\u001b[1;32m   (...)\u001b[0m\n\u001b[0;32m     52\u001b[0m \u001b[38;5;124;03m        alert = driver.switch_to.alert\u001b[39;00m\n\u001b[0;32m     53\u001b[0m \u001b[38;5;124;03m\"\"\"\u001b[39;00m\n\u001b[0;32m     54\u001b[0m alert \u001b[38;5;241m=\u001b[39m Alert(\u001b[38;5;28mself\u001b[39m\u001b[38;5;241m.\u001b[39m_driver)\n\u001b[1;32m---> 55\u001b[0m _ \u001b[38;5;241m=\u001b[39m \u001b[43malert\u001b[49m\u001b[38;5;241;43m.\u001b[39;49m\u001b[43mtext\u001b[49m\n\u001b[0;32m     56\u001b[0m \u001b[38;5;28;01mreturn\u001b[39;00m alert\n",
      "File \u001b[1;32m~\\AppData\\Local\\Programs\\Python\\Python311\\Lib\\site-packages\\selenium\\webdriver\\common\\alert.py:59\u001b[0m, in \u001b[0;36mAlert.text\u001b[1;34m(self)\u001b[0m\n\u001b[0;32m     56\u001b[0m \u001b[38;5;129m@property\u001b[39m\n\u001b[0;32m     57\u001b[0m \u001b[38;5;28;01mdef\u001b[39;00m \u001b[38;5;21mtext\u001b[39m(\u001b[38;5;28mself\u001b[39m):\n\u001b[0;32m     58\u001b[0m \u001b[38;5;250m    \u001b[39m\u001b[38;5;124;03m\"\"\"Gets the text of the Alert.\"\"\"\u001b[39;00m\n\u001b[1;32m---> 59\u001b[0m     \u001b[38;5;28;01mreturn\u001b[39;00m \u001b[38;5;28;43mself\u001b[39;49m\u001b[38;5;241;43m.\u001b[39;49m\u001b[43mdriver\u001b[49m\u001b[38;5;241;43m.\u001b[39;49m\u001b[43mexecute\u001b[49m\u001b[43m(\u001b[49m\u001b[43mCommand\u001b[49m\u001b[38;5;241;43m.\u001b[39;49m\u001b[43mW3C_GET_ALERT_TEXT\u001b[49m\u001b[43m)\u001b[49m[\u001b[38;5;124m\"\u001b[39m\u001b[38;5;124mvalue\u001b[39m\u001b[38;5;124m\"\u001b[39m]\n",
      "File \u001b[1;32m~\\AppData\\Local\\Programs\\Python\\Python311\\Lib\\site-packages\\selenium\\webdriver\\remote\\webdriver.py:440\u001b[0m, in \u001b[0;36mWebDriver.execute\u001b[1;34m(self, driver_command, params)\u001b[0m\n\u001b[0;32m    438\u001b[0m response \u001b[38;5;241m=\u001b[39m \u001b[38;5;28mself\u001b[39m\u001b[38;5;241m.\u001b[39mcommand_executor\u001b[38;5;241m.\u001b[39mexecute(driver_command, params)\n\u001b[0;32m    439\u001b[0m \u001b[38;5;28;01mif\u001b[39;00m response:\n\u001b[1;32m--> 440\u001b[0m     \u001b[38;5;28;43mself\u001b[39;49m\u001b[38;5;241;43m.\u001b[39;49m\u001b[43merror_handler\u001b[49m\u001b[38;5;241;43m.\u001b[39;49m\u001b[43mcheck_response\u001b[49m\u001b[43m(\u001b[49m\u001b[43mresponse\u001b[49m\u001b[43m)\u001b[49m\n\u001b[0;32m    441\u001b[0m     response[\u001b[38;5;124m\"\u001b[39m\u001b[38;5;124mvalue\u001b[39m\u001b[38;5;124m\"\u001b[39m] \u001b[38;5;241m=\u001b[39m \u001b[38;5;28mself\u001b[39m\u001b[38;5;241m.\u001b[39m_unwrap_value(response\u001b[38;5;241m.\u001b[39mget(\u001b[38;5;124m\"\u001b[39m\u001b[38;5;124mvalue\u001b[39m\u001b[38;5;124m\"\u001b[39m, \u001b[38;5;28;01mNone\u001b[39;00m))\n\u001b[0;32m    442\u001b[0m     \u001b[38;5;28;01mreturn\u001b[39;00m response\n",
      "File \u001b[1;32m~\\AppData\\Local\\Programs\\Python\\Python311\\Lib\\site-packages\\selenium\\webdriver\\remote\\errorhandler.py:245\u001b[0m, in \u001b[0;36mErrorHandler.check_response\u001b[1;34m(self, response)\u001b[0m\n\u001b[0;32m    243\u001b[0m         alert_text \u001b[38;5;241m=\u001b[39m value[\u001b[38;5;124m\"\u001b[39m\u001b[38;5;124malert\u001b[39m\u001b[38;5;124m\"\u001b[39m]\u001b[38;5;241m.\u001b[39mget(\u001b[38;5;124m\"\u001b[39m\u001b[38;5;124mtext\u001b[39m\u001b[38;5;124m\"\u001b[39m)\n\u001b[0;32m    244\u001b[0m     \u001b[38;5;28;01mraise\u001b[39;00m exception_class(message, screen, stacktrace, alert_text)  \u001b[38;5;66;03m# type: ignore[call-arg]  # mypy is not smart enough here\u001b[39;00m\n\u001b[1;32m--> 245\u001b[0m \u001b[38;5;28;01mraise\u001b[39;00m exception_class(message, screen, stacktrace)\n",
      "\u001b[1;31mNoAlertPresentException\u001b[0m: Message: no such alert\n  (Session info: chrome=114.0.5735.134)\nStacktrace:\nBacktrace:\n\tGetHandleVerifier [0x011C6E73+48323]\n\t(No symbol) [0x01159661]\n\t(No symbol) [0x010651D0]\n\t(No symbol) [0x0105E58F]\n\t(No symbol) [0x010789C4]\n\t(No symbol) [0x010AA954]\n\t(No symbol) [0x0107888D]\n\t(No symbol) [0x010AA6D6]\n\t(No symbol) [0x0108847C]\n\t(No symbol) [0x0108957D]\n\tGetHandleVerifier [0x0142FD5D+2575277]\n\tGetHandleVerifier [0x0146F86E+2836158]\n\tGetHandleVerifier [0x014696DC+2811180]\n\tGetHandleVerifier [0x012541B0+626688]\n\t(No symbol) [0x0116314C]\n\t(No symbol) [0x0115F4B8]\n\t(No symbol) [0x0115F59B]\n\t(No symbol) [0x011521B7]\n\tBaseThreadInitThunk [0x76F400C9+25]\n\tRtlGetAppContainerNamedObjectPath [0x772B7B4E+286]\n\tRtlGetAppContainerNamedObjectPath [0x772B7B1E+238]\n"
     ]
    }
   ],
   "source": [
    "driver.find_element(By.XPATH,\"//*[@id='signInBtn']\").click()\n",
    "wait = WebDriverWait(driver,10)\n",
    "wait.until(expected_conditions.presence_of_element_located((By.XPATH,\"//div[@class='alert alert-danger col-md-12']\")))\n",
    "print(driver.switch_to.alert.text)"
   ]
  },
  {
   "cell_type": "code",
   "execution_count": 86,
   "metadata": {},
   "outputs": [
    {
     "data": {
      "text/plain": [
       "<selenium.webdriver.remote.webelement.WebElement (session=\"ad920028a083b4472f8180c5e6968cba\", element=\"40E922024E308F9AE7BBE9C7BB9B84DE_element_43\")>"
      ]
     },
     "execution_count": 86,
     "metadata": {},
     "output_type": "execute_result"
    }
   ],
   "source": []
  },
  {
   "cell_type": "code",
   "execution_count": null,
   "metadata": {},
   "outputs": [],
   "source": []
  }
 ],
 "metadata": {
  "kernelspec": {
   "display_name": "Python 3 (ipykernel)",
   "language": "python",
   "name": "python3"
  },
  "language_info": {
   "codemirror_mode": {
    "name": "ipython",
    "version": 3
   },
   "file_extension": ".py",
   "mimetype": "text/x-python",
   "name": "python",
   "nbconvert_exporter": "python",
   "pygments_lexer": "ipython3",
   "version": "3.11.2"
  }
 },
 "nbformat": 4,
 "nbformat_minor": 2
}
