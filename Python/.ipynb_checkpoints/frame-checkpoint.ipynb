{
 "cells": [
  {
   "cell_type": "code",
   "execution_count": 11,
   "id": "0dc8d9e0",
   "metadata": {},
   "outputs": [],
   "source": [
    "from selenium import webdriver\n",
    "from selenium.webdriver.chrome.service import Service\n",
    "from selenium.webdriver.common.by import By\n",
    "service_obj=Service(\"C:\\\\Aryan\\\\Data analysts\\\\Webdriver\\\\chromedriver.exe\")\n",
    "driver = webdriver.Chrome(service=service_obj)\n",
    "driver.get(\"https://the-internet.herokuapp.com\")"
   ]
  },
  {
   "cell_type": "code",
   "execution_count": 12,
   "id": "c3c3a2d5",
   "metadata": {},
   "outputs": [],
   "source": [
    "driver.find_element(By.LINK_TEXT,\"Frames\").click()"
   ]
  },
  {
   "cell_type": "code",
   "execution_count": 13,
   "id": "cd118b38",
   "metadata": {},
   "outputs": [],
   "source": [
    "driver.find_element(By.LINK_TEXT,\"iFrame\").click()"
   ]
  },
  {
   "cell_type": "code",
   "execution_count": 14,
   "id": "838c306f",
   "metadata": {},
   "outputs": [],
   "source": [
    "driver.switch_to.frame(driver.find_element(By.XPATH,\"//*[@id='mce_0_ifr']\"))"
   ]
  },
  {
   "cell_type": "code",
   "execution_count": 16,
   "id": "faeec033",
   "metadata": {},
   "outputs": [],
   "source": [
    "driver.find_element(By.XPATH,\"//*[@id='tinymce']/p\").clear()"
   ]
  },
  {
   "cell_type": "code",
   "execution_count": 17,
   "id": "f4f98571",
   "metadata": {},
   "outputs": [],
   "source": [
    "driver.find_element(By.XPATH,\"//*[@id='tinymce']/p\").send_keys(\"back\")"
   ]
  },
  {
   "cell_type": "code",
   "execution_count": null,
   "id": "14857ea4",
   "metadata": {},
   "outputs": [],
   "source": []
  }
 ],
 "metadata": {
  "kernelspec": {
   "display_name": "Python 3 (ipykernel)",
   "language": "python",
   "name": "python3"
  },
  "language_info": {
   "codemirror_mode": {
    "name": "ipython",
    "version": 3
   },
   "file_extension": ".py",
   "mimetype": "text/x-python",
   "name": "python",
   "nbconvert_exporter": "python",
   "pygments_lexer": "ipython3",
   "version": "3.11.2"
  }
 },
 "nbformat": 4,
 "nbformat_minor": 5
}
