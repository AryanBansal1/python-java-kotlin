{
 "cells": [
  {
   "cell_type": "code",
   "execution_count": 19,
   "id": "5d4eeb70",
   "metadata": {},
   "outputs": [],
   "source": [
    "from selenium import webdriver\n",
    "from selenium.webdriver.chrome.service import Service\n",
    "from selenium.webdriver.common.by import By\n",
    "from selenium.webdriver.support.select import Select\n",
    "import time\n",
    "chrome_option = webdriver.ChromeOptions()\n",
    "chrome_option.add_experimental_option(\"detach\",True)\n",
    "service_obj = Service(\"C:\\\\Aryan\\\\Data analysts\\\\Webdriver\\\\chromedriver.exe\")\n",
    "driver = webdriver.Chrome(options=chrome_option,service=service_obj)\n"
   ]
  },
  {
   "cell_type": "code",
   "execution_count": 20,
   "id": "82e404df",
   "metadata": {},
   "outputs": [],
   "source": [
    "driver.get(\"https://www.instagram.com/\")\n",
    "time.sleep(5)"
   ]
  },
  {
   "cell_type": "code",
   "execution_count": 22,
   "id": "ca91441e",
   "metadata": {},
   "outputs": [],
   "source": [
    "driver.find_element(By.XPATH,\"//input[@name='username']\").send_keys(\"aryan_bansal__\")\n",
    "driver.find_element(By.XPATH,\"//input[@name='password']\").send_keys(\"complicated\")"
   ]
  },
  {
   "cell_type": "code",
   "execution_count": 25,
   "id": "78e8073b",
   "metadata": {},
   "outputs": [
    {
     "ename": "AttributeError",
     "evalue": "type object 'By' has no attribute 'CSSelector'",
     "output_type": "error",
     "traceback": [
      "\u001b[1;31m---------------------------------------------------------------------------\u001b[0m",
      "\u001b[1;31mAttributeError\u001b[0m                            Traceback (most recent call last)",
      "Cell \u001b[1;32mIn[25], line 1\u001b[0m\n\u001b[1;32m----> 1\u001b[0m driver\u001b[38;5;241m.\u001b[39mfind_element(\u001b[43mBy\u001b[49m\u001b[38;5;241;43m.\u001b[39;49m\u001b[43mCSSelector\u001b[49m,\u001b[38;5;124m\"\u001b[39m\u001b[38;5;124mbutton[type=\u001b[39m\u001b[38;5;124m'\u001b[39m\u001b[38;5;124msubmit\u001b[39m\u001b[38;5;124m'\u001b[39m\u001b[38;5;124m]\u001b[39m\u001b[38;5;124m\"\u001b[39m)\u001b[38;5;241m.\u001b[39mclick()\n",
      "\u001b[1;31mAttributeError\u001b[0m: type object 'By' has no attribute 'CSSelector'"
     ]
    }
   ],
   "source": [
    "driver.find_element(By.CSSelector,\"button[type='submit']\").click()"
   ]
  },
  {
   "cell_type": "code",
   "execution_count": null,
   "id": "83bbdabf",
   "metadata": {},
   "outputs": [],
   "source": []
  }
 ],
 "metadata": {
  "kernelspec": {
   "display_name": "Python 3 (ipykernel)",
   "language": "python",
   "name": "python3"
  },
  "language_info": {
   "codemirror_mode": {
    "name": "ipython",
    "version": 3
   },
   "file_extension": ".py",
   "mimetype": "text/x-python",
   "name": "python",
   "nbconvert_exporter": "python",
   "pygments_lexer": "ipython3",
   "version": "3.11.2"
  }
 },
 "nbformat": 4,
 "nbformat_minor": 5
}
