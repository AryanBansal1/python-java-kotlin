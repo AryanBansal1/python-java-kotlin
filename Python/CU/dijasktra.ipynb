{
 "cells": [
  {
   "cell_type": "code",
   "execution_count": 2,
   "metadata": {},
   "outputs": [
    {
     "name": "stdout",
     "output_type": "stream",
     "text": [
      "the shortest path from A:{'A': 0, 'B': 1, 'C': 3, 'D': 4}\n"
     ]
    }
   ],
   "source": [
    "def dijaskatra(graph,start):\n",
    "    distances = {node:float('infinity') for node in graph}\n",
    "    distances[start]=0\n",
    "    priority_queue = [(0,start)]\n",
    "\n",
    "    while priority_queue:\n",
    "        current_distance,current_node = priority_queue.pop(0)\n",
    "\n",
    "        for neighbour,weight  in graph[current_node].items():\n",
    "            distance = current_distance+ weight\n",
    "\n",
    "            if distance < distances[neighbour]:\n",
    "                distances[neighbour] = distance\n",
    "                priority_queue.append((distance,neighbour))\n",
    "\n",
    "    return distances\n",
    "\n",
    "graph = {\n",
    "    'A':{'B':1,'C':4},\n",
    "    'B':{'A':1,'C':2,'D':5},\n",
    "    'C':{'A':4,'B':2,'D':1},\n",
    "    'D':{'C':1,'B':5}\n",
    "}\n",
    "start_node ='A'\n",
    "shortest_path = dijaskatra(graph,start_node)\n",
    "print(f\"the shortest path from {start_node}:{shortest_path}\")"
   ]
  },
  {
   "cell_type": "code",
   "execution_count": null,
   "metadata": {},
   "outputs": [],
   "source": []
  }
 ],
 "metadata": {
  "kernelspec": {
   "display_name": "Python 3",
   "language": "python",
   "name": "python3"
  },
  "language_info": {
   "codemirror_mode": {
    "name": "ipython",
    "version": 3
   },
   "file_extension": ".py",
   "mimetype": "text/x-python",
   "name": "python",
   "nbconvert_exporter": "python",
   "pygments_lexer": "ipython3",
   "version": "3.11.5"
  }
 },
 "nbformat": 4,
 "nbformat_minor": 2
}
