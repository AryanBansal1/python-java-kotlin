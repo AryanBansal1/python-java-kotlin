{
 "cells": [
  {
   "cell_type": "code",
   "execution_count": 3,
   "metadata": {},
   "outputs": [
    {
     "name": "stdout",
     "output_type": "stream",
     "text": [
      "Jai Shree Krishna\n"
     ]
    }
   ],
   "source": [
    "from selenium import webdriver\n",
    "from selenium.webdriver import ActionChains\n",
    "from selenium.webdriver.common.service import Service\n",
    "from selenium.webdriver.common.by import By\n",
    "from selenium.webdriver.support.ui import WebDriverWait\n",
    "from selenium.webdriver.support.select import Select\n",
    "from selenium.webdriver.support import expected_conditions\n",
    "import time\n",
    "import datetime\n",
    "import os \n",
    "import pandas as pd\n",
    "print(\"Jai Shree Krishna\")\n"
   ]
  },
  {
   "cell_type": "code",
   "execution_count": null,
   "metadata": {},
   "outputs": [],
   "source": []
  },
  {
   "cell_type": "code",
   "execution_count": 12,
   "metadata": {},
   "outputs": [
    {
     "name": "stdout",
     "output_type": "stream",
     "text": [
      "[1, 3, 4, 5, 7, 8, 9]\n"
     ]
    }
   ],
   "source": [
    "#quick sort practice\n",
    "def swap(a,b,arr):\n",
    "    if a !=b:\n",
    "        temp = arr[a]\n",
    "        arr[a] = arr[b]\n",
    "        arr[b]=temp\n",
    "\n",
    "def partition(start,end,array):\n",
    "    pivot_index = start\n",
    "    pivot = array[pivot_index]\n",
    "    while start<end:\n",
    "        while start<len(array) and array[start]<=pivot:\n",
    "            start+=1\n",
    "        while array[end]> pivot:\n",
    "            end-=1\n",
    "        if start<end:\n",
    "            swap(start,end,array)\n",
    "    swap(pivot_index,end,array)\n",
    "    return end\n",
    "\n",
    "def quick_sort(start,end,array):\n",
    "    if start<end:\n",
    "        pi = partition(start,end,array)\n",
    "        quick_sort(start,pi-1,array)\n",
    "        quick_sort(pi+1, end,array)\n",
    "\n",
    "array = [3,7,1,4,8,5,9]\n",
    "quick_sort(0,len(array)-1,array)\n",
    "print(array)"
   ]
  },
  {
   "cell_type": "code",
   "execution_count": 4,
   "metadata": {},
   "outputs": [
    {
     "name": "stdout",
     "output_type": "stream",
     "text": [
      "[1, 3, 4, 5, 7, 8, 9]\n"
     ]
    }
   ],
   "source": [
    "#merge sort practice\n",
    "\n",
    "def merge_sort(array):\n",
    "    if len(array)<=1:\n",
    "        return array\n",
    "    mid = len(array)//2\n",
    "    left = array[:mid]\n",
    "    right = array[mid:]\n",
    "    left = merge_sort(left)\n",
    "    right = merge_sort(right)\n",
    "\n",
    "    return merge_sort_two_list(left,right)\n",
    "\n",
    "def merge_sort_two_list(a,b):\n",
    "    len_a = len(a)\n",
    "    len_b = len(b)\n",
    "    sorted_list = []\n",
    "    i=j=0\n",
    "    while i<len_a and j<len_b:\n",
    "        if a[i]<=b[j]:\n",
    "            sorted_list.append(a[i])\n",
    "            i+=1\n",
    "        else:\n",
    "            sorted_list.append(b[j])\n",
    "            j+=1\n",
    "    while i<len_a:\n",
    "            sorted_list.append(a[i])\n",
    "            i+=1\n",
    "    while j<len_b:\n",
    "            sorted_list.append(b[j])\n",
    "            j+=1\n",
    "    return sorted_list\n",
    "\n",
    "array =[3,7,1,4,8,5,9]\n",
    "sortation = merge_sort(array)\n",
    "print(sortation)"
   ]
  },
  {
   "cell_type": "code",
   "execution_count": null,
   "metadata": {},
   "outputs": [],
   "source": []
  }
 ],
 "metadata": {
  "kernelspec": {
   "display_name": "Python 3",
   "language": "python",
   "name": "python3"
  },
  "language_info": {
   "codemirror_mode": {
    "name": "ipython",
    "version": 3
   },
   "file_extension": ".py",
   "mimetype": "text/x-python",
   "name": "python",
   "nbconvert_exporter": "python",
   "pygments_lexer": "ipython3",
   "version": "3.11.5"
  },
  "orig_nbformat": 4
 },
 "nbformat": 4,
 "nbformat_minor": 2
}
