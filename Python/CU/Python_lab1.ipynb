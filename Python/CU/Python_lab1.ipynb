{
 "cells": [
  {
   "cell_type": "code",
   "execution_count": null,
   "metadata": {},
   "outputs": [],
   "source": [
    "#EXP 1 CREATING DICTIONARY  \n",
    "User_Id = int(input(\"Enter your id here\"))\n",
    "name = input(\"Enter your name\")\n",
    "age = input(\"Enter your age\")\n",
    "course = input(\"Enter your course\")\n",
    "uid = int(input(\"Id you want to retrive\"))\n",
    "\n",
    "Dictonary1 = {\"ID\":User_Id,'NAME':name,\"Age\":age,\"Course\":course}\n",
    "if uid == User_Id:\n",
    "    print(Dictonary1)\n",
    "else:\n",
    "    print(\"No such user found\")\n"
   ]
  },
  {
   "cell_type": "code",
   "execution_count": null,
   "metadata": {},
   "outputs": [],
   "source": [
    "# Exp 2 amicable numbers\n",
    "\n",
    "val1 = int(input(\"first number\"))\n",
    "val2 = int(input(\"second number\"))\n",
    "sum1 =0\n",
    "sum2 = 0\n",
    "\n",
    "for i in range(1,val1):\n",
    "    if val1 % i ==0:\n",
    "        sum1 +=i\n",
    "\n",
    "for j in range(1,val2):\n",
    "    if val2% j ==0:\n",
    "        sum2 +=j\n",
    "\n",
    "if sum1 == val2 and sum2 == val1:\n",
    "    print(\"these are amicable number\")\n",
    "else:\n",
    "    print(\"these are not amicable number\")"
   ]
  },
  {
   "cell_type": "code",
   "execution_count": null,
   "metadata": {},
   "outputs": [],
   "source": [
    "#Exp 3 twin prime number\n",
    "def is_prime(num):\n",
    "    for i in range(2,num):\n",
    "        if num % i ==0:\n",
    "            return False\n",
    "        return True\n",
    "    \n",
    "def is_twin_prime(numb):\n",
    "    for i in range(2,numb):\n",
    "        j = i+2\n",
    "        if is_prime(i) and is_prime(j):\n",
    "            print(i,j)\n",
    "is_twin_prime(1000)"
   ]
  },
  {
   "cell_type": "code",
   "execution_count": null,
   "metadata": {},
   "outputs": [],
   "source": []
  }
 ],
 "metadata": {
  "kernelspec": {
   "display_name": "Python 3",
   "language": "python",
   "name": "python3"
  },
  "language_info": {
   "codemirror_mode": {
    "name": "ipython",
    "version": 3
   },
   "file_extension": ".py",
   "mimetype": "text/x-python",
   "name": "python",
   "nbconvert_exporter": "python",
   "pygments_lexer": "ipython3",
   "version": "3.11.5"
  }
 },
 "nbformat": 4,
 "nbformat_minor": 2
}
