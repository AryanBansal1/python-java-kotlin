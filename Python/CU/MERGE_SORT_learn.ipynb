{
 "cells": [
  {
   "cell_type": "code",
   "execution_count": 5,
   "metadata": {},
   "outputs": [
    {
     "name": "stdout",
     "output_type": "stream",
     "text": [
      "[1, 2, 3, 4, 5, 6, 7, 8, 9, 10]\n"
     ]
    }
   ],
   "source": [
    "# let the two array be \n",
    "def merge_sort(array):\n",
    "    if len(array)<=1:\n",
    "        return array\n",
    "    mid = len(array)//2\n",
    "    left = array[:mid]\n",
    "    right = array[mid:]\n",
    "    left = merge_sort(left)\n",
    "    right = merge_sort(right)\n",
    "    return merge_two_sorted_list(left,right)\n",
    "def merge_two_sorted_list(a,b):\n",
    "    sorted_list = []\n",
    "    len_a = len(a)\n",
    "    len_b = len(b)\n",
    "    i=j=0\n",
    "    while i <len_a and j<len_b:\n",
    "        if a[i]<=b[j]:\n",
    "            sorted_list.append(a[i])\n",
    "            i +=1\n",
    "        else:\n",
    "            sorted_list.append(b[j])\n",
    "            j+=1\n",
    "    while i<len_a:\n",
    "        sorted_list.append(a[i])\n",
    "        i+=1\n",
    "    while j<len_b:\n",
    "        sorted_list.append(b[j])\n",
    "        j+=1\n",
    "    return sorted_list\n",
    "\n",
    "array=[5,8,1,4,2,7,6,3,10,9]\n",
    "sortation =merge_sort(array)\n",
    "print(sortation)"
   ]
  },
  {
   "cell_type": "code",
   "execution_count": 2,
   "metadata": {},
   "outputs": [
    {
     "name": "stdout",
     "output_type": "stream",
     "text": [
      "[2, 3, 5, 6, 8, 9]\n"
     ]
    }
   ],
   "source": [
    "#practice quick sort\n",
    "def swap (a,b,arr):\n",
    "    if a != b:\n",
    "        temp = arr[a]\n",
    "        arr[a]=arr[b]\n",
    "        arr[b]=temp\n",
    "\n",
    "def partition(array,start,end):\n",
    "    pivot_index = start\n",
    "    pivot = array[pivot_index]\n",
    "\n",
    "    while  start<end:\n",
    "        while start<len(array) and array[start]<=pivot:\n",
    "            start +=1\n",
    "        while array[end]>pivot:\n",
    "            end-=1\n",
    "        if start <end:\n",
    "            swap(start,end,array)\n",
    "    swap(pivot_index,end,array)\n",
    "\n",
    "    return end\n",
    "\n",
    "def quick_sort(array,start,end):\n",
    "    if start<end:\n",
    "        pi = partition(array,start,end)\n",
    "        quick_sort(array,start,pi-1)\n",
    "        quick_sort(array,pi+1,end)\n",
    "\n",
    "\n",
    "array =[6,3,9,5,2,8]\n",
    "quick_sort(array,0,len(array)-1)\n",
    "print(array)"
   ]
  },
  {
   "cell_type": "code",
   "execution_count": 1,
   "metadata": {},
   "outputs": [
    {
     "name": "stdout",
     "output_type": "stream",
     "text": [
      "[1, 3, 4, 5, 7, 8, 9]\n"
     ]
    }
   ],
   "source": [
    "# practice merge sort\n",
    "def merge_sort(array):\n",
    "    if len(array)<=1:\n",
    "        return array\n",
    "    mid = len(array)//2\n",
    "    left = array[:mid]\n",
    "    right = array[mid:]\n",
    "    left = merge_sort(left)\n",
    "    right = merge_sort(right)\n",
    "    return merge_sort_two_list(left,right)\n",
    "\n",
    "def merge_sort_two_list(a,b):\n",
    "    len_a = len(a)\n",
    "    len_b = len(b)\n",
    "    sorted_list = []\n",
    "    i=j=0\n",
    "    while i<len_a and j <len_b:\n",
    "        if a[i] <=b[j]:\n",
    "            sorted_list.append(a[i])\n",
    "            i+=1\n",
    "        else:\n",
    "            sorted_list.append(b[j])\n",
    "            j+=1\n",
    "    while i <len_a:\n",
    "            sorted_list.append(a[i])\n",
    "            i+=1\n",
    "    while j <len_b:\n",
    "            sorted_list.append(b[j])\n",
    "            j+=1\n",
    "    return sorted_list\n",
    "\n",
    "\n",
    "array = [3,7,1,4,8,5,9]\n",
    "sortation = merge_sort(array)\n",
    "print(sortation)"
   ]
  },
  {
   "cell_type": "code",
   "execution_count": 6,
   "metadata": {},
   "outputs": [
    {
     "name": "stdout",
     "output_type": "stream",
     "text": [
      "myself \"raj\" + and \n"
     ]
    }
   ],
   "source": [
    "print(\"myself \\\"raj\\\" + and \")"
   ]
  },
  {
   "cell_type": "code",
   "execution_count": 9,
   "metadata": {},
   "outputs": [
    {
     "name": "stdout",
     "output_type": "stream",
     "text": [
      "hello my name is rajesh and my age is 4\n"
     ]
    }
   ],
   "source": [
    "age = 4\n",
    "txt = \"my name is rajesh\"\n",
    "print(f\"hello {txt} and my age is {age}\")"
   ]
  },
  {
   "cell_type": "code",
   "execution_count": null,
   "metadata": {},
   "outputs": [],
   "source": []
  }
 ],
 "metadata": {
  "kernelspec": {
   "display_name": "Python 3",
   "language": "python",
   "name": "python3"
  },
  "language_info": {
   "codemirror_mode": {
    "name": "ipython",
    "version": 3
   },
   "file_extension": ".py",
   "mimetype": "text/x-python",
   "name": "python",
   "nbconvert_exporter": "python",
   "pygments_lexer": "ipython3",
   "version": "3.11.5"
  },
  "orig_nbformat": 4
 },
 "nbformat": 4,
 "nbformat_minor": 2
}
